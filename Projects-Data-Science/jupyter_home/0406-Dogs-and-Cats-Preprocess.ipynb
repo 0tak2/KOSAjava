{
 "cells": [
  {
   "cell_type": "code",
   "execution_count": 4,
   "metadata": {},
   "outputs": [
    {
     "data": {
      "application/vnd.jupyter.widget-view+json": {
       "model_id": "52c333d9dd244b4b834bc7f45a02b26f",
       "version_major": 2,
       "version_minor": 0
      },
      "text/plain": [
       "  0%|          | 0/25000 [00:00<?, ?it/s]"
      ]
     },
     "metadata": {},
     "output_type": "display_data"
    }
   ],
   "source": [
    "import numpy as np\n",
    "import pandas as pd \n",
    "from PIL import Image\n",
    "import matplotlib.pyplot as plt\n",
    "import random\n",
    "import os\n",
    "import cv2 as cv \n",
    "from sklearn import utils\n",
    "from tqdm.notebook import tqdm\n",
    "\n",
    "# 파일 경로\n",
    "train_dir = './large-data/dogs-cats/train/'\n",
    "\n",
    "\n",
    "# img = 파일 이름\n",
    "def labeling(img):\n",
    "    class_name = img.split('.')[0]\n",
    "    if class_name == 'cat': return 0\n",
    "    elif class_name == 'dog': return 1\n",
    "    \n",
    "# label data와 pixel data 담을 변수\n",
    "x_data = []\n",
    "t_data = []\n",
    "\n",
    "# os.listdir(): 인자로 준 폴더 경로 안에 있는 모든 파일들 이름 리스트                               ):\n",
    "for img in tqdm(os.listdir(train_dir),\n",
    "                total=len(os.listdir(train_dir)),\n",
    "                position=0,\n",
    "                leave=True):\n",
    "    # 위에서 만든 labeling()을 통해 이름이 cat이면 0 / dog면 1 반환\n",
    "    label_data = labeling(img)\n",
    "\n",
    "    # 이미지 파일 경로 설정\n",
    "    path = os.path.join(train_dir, img)\n",
    "\n",
    "    # 이미지 파일 nd.array로 불러오기 (cv2.imread())\n",
    "    # 형태만 필요해서 흑백으로 불러오기 (cv2.IMREAD_GRAYSCALE)\n",
    "    # 이미지 pixel size 조정하기\n",
    "    img_data = cv.resize(cv.imread(path, cv.IMREAD_GRAYSCALE), (80, 80))\n",
    "\n",
    "    # 리스트 변수에 담아주기\n",
    "    t_data.append(label_data)\n",
    "    x_data.append(img_data.ravel()) # 이미지 shape이 2차원: (80,80)\n",
    "    # 이게 그대로 들어가면 차원 하나 더 있어서 결국 3차원이므로 \n",
    "    # 1차원으로 바꿔주기: ravel()\n",
    "\n",
    "# labeling data ==> DataFrame으로 만들기\n",
    "t_df = pd.DataFrame({\n",
    "  'label': t_data\n",
    "})\n",
    "\n",
    "# 이미지 픽셀 data ==> DataFrame으로 만들기\n",
    "x_df = pd.DataFrame(x_data)\n",
    "\n",
    "# 2개 dataframe 합치기\n",
    "df = pd.merge(t_df, x_df, left_index=True, right_index=True)\n",
    "\n",
    "# utils.shuffle() ==> pandas dataframe 행을 shuffle 한다.\n",
    "shuffled_df = utils.shuffle(df)\n",
    "\n",
    "# DataFrame을 csv 파일로 저장하기\n",
    "result = shuffled_df.to_csv('./large-data/dogs-cats/train/train_full.csv', index=False)"
   ]
  }
 ],
 "metadata": {
  "kernelspec": {
   "display_name": "Python 3 (ipykernel)",
   "language": "python",
   "name": "python3"
  },
  "language_info": {
   "codemirror_mode": {
    "name": "ipython",
    "version": 3
   },
   "file_extension": ".py",
   "mimetype": "text/x-python",
   "name": "python",
   "nbconvert_exporter": "python",
   "pygments_lexer": "ipython3",
   "version": "3.8.16"
  }
 },
 "nbformat": 4,
 "nbformat_minor": 2
}

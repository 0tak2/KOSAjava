{
 "cells": [
  {
   "cell_type": "markdown",
   "id": "2637c4c4",
   "metadata": {},
   "source": [
    "# Numpy\n",
    "\n",
    "데이터 분석, 머신러닝, 딥러닝 등의 분야에서 가장 시간이 많이 걸리고 품을 들여야 하는 것이 데이터의 수집과 정제\n",
    "\n",
    "데이터 분석의 결과 혹은 기계학습의 결과가 좋으려면 양질의 데이터를 입력해야한다.\n",
    "\n",
    "- Numpy: Numerical Python. 수치 계산에 특화\n",
    "    - Pandas: 데이터 분석 모듈\n",
    "    - Matplotlib: 데이터 시각화 모듈\n",
    "- Pandas, Matplotlib의 base가 되는 기본 자료구조를 제공\n",
    "\n",
    "뒤로 가면 Numpy를 직접적으로 사용할 일은 많지 않을 것임. Pandas, Matplotlib의 내부 자료 구조로 numpy가 활용되는 것이기 때문.\n",
    "\n",
    "numpy가 제공하는 자료구조 **ndarray**  \n",
    "n-dimensional array - 다차원배열  \n",
    "많은 양의 데이터를 보다 적은 메모리 공간만을 이용해 빠르게 처리하기 위해 리스트 대신 다차원배열을 활용하는 것."
   ]
  },
  {
   "cell_type": "code",
   "execution_count": 3,
   "id": "ae21411b",
   "metadata": {},
   "outputs": [
    {
     "name": "stdout",
     "output_type": "stream",
     "text": [
      "numpy imported!\n"
     ]
    }
   ],
   "source": [
    "# numpy는 외부 모듈이므로 설치 후 import가 필요\n",
    "# conda install numpy\n",
    "\n",
    "import numpy as np # alias 'np'\n",
    "\n",
    "print('numpy imported!')"
   ]
  },
  {
   "cell_type": "code",
   "execution_count": 6,
   "id": "08dcf2f0",
   "metadata": {},
   "outputs": [
    {
     "name": "stdout",
     "output_type": "stream",
     "text": [
      "[1, 2, 3, 4, 5]\n",
      "[1 2 3 4 5]\n",
      "<class 'numpy.ndarray'>\n",
      "[1.   2.   3.14 4.   5.  ]\n",
      "float64\n"
     ]
    }
   ],
   "source": [
    "a = [1, 2, 3, 4, 5] # 파이썬 리스트\n",
    "print(a) # [1, 2, 3, 4, 5]\n",
    "\n",
    "b = np.array([1, 2, 3, 4, 5]) # 리스트를 가지고 ndarray를 만든다\n",
    "print(b) # [1 2 3 4 5] 1차원 ndarray\n",
    "\n",
    "print(type(b)) # <class 'numpy.ndarray'> 리스트와 완전히 다른 객체\n",
    "\n",
    "# ndarray의 특징\n",
    "# list 안에는 어떤 타입이든 막 들어올 수 있었다.\n",
    "c = [1, 3.14, '홍길동', True]\n",
    "\n",
    "# 그러나 ndarray에는 반드시 같은 데이터 타입만 들어갈 수 있다.\n",
    "d = np.array([1, 2, 3.14, 4, 5])\n",
    "print(d) # [1.   2.   3.14 4.   5.  ] 모든 값이 실수로 변환되었다.\n",
    "print(d.dtype) # float64. ndarray를 이루는 데이터의 타입 반환"
   ]
  },
  {
   "cell_type": "code",
   "execution_count": 13,
   "id": "9f72809a",
   "metadata": {},
   "outputs": [
    {
     "name": "stdout",
     "output_type": "stream",
     "text": [
      "[[1, 2, 3], [4, 5, 6]]\n",
      "[[1 2 3]\n",
      " [4 5 6]]\n",
      "2\n",
      "[1 2 3]\n",
      "2\n"
     ]
    }
   ],
   "source": [
    "# ndarray와 list의 가장 큰 차이는 차원을 표현할 수 있다는 것\n",
    "\n",
    "myList = [[1, 2, 3], [4, 5, 6]] # 중첩 리스트\n",
    "print(myList)\n",
    "\n",
    "arr = np.array(myList) # 2차원 배열로 2차원 행렬을 표현\n",
    "print(arr)\n",
    "\n",
    "print(arr[0, 1]) # 2 / 0행 1열\n",
    "\n",
    "print(arr[0]) # [1 2 3] / 1차원의 ndarray / 0행 전체\n",
    "\n",
    "print(arr[0][1]) # 따라서 [n, m]을 [n][m]으로 써도 같은 값이 반환된다. 그렇지만 전자처럼 쓰는게 좋다."
   ]
  },
  {
   "cell_type": "code",
   "execution_count": 21,
   "id": "b1565768",
   "metadata": {},
   "outputs": [
    {
     "name": "stdout",
     "output_type": "stream",
     "text": [
      "[1 2 3 4]\n",
      "int32\n",
      "1\n",
      "(4,)\n",
      "(3, 2)\n"
     ]
    }
   ],
   "source": [
    "# ndarray의 중요한 속성\n",
    "\n",
    "arr = np.array([1, 2, 3, 4])\n",
    "print(arr) # [1 2 3 4]\n",
    "print(arr.dtype) # int32\n",
    "print(arr.ndim) # 차원 / 1\n",
    "print(arr.shape) # 많이 사용하는 속성. 형태를 파악할 수 있는 속성을 튜플로 나타냄. 튜플로부터 차원 수, 요소의 개수 알 수 있음\n",
    "                 # ( N차원 요소 개수, N-1차원 요소 개수 )\n",
    "\n",
    "b = [[1, 2], [3, 4], [5, 6]]\n",
    "arr = np.array(b)\n",
    "print(arr.shape) # (3, 2) / 3행 2열 / 전체 6개 데이터"
   ]
  },
  {
   "cell_type": "code",
   "execution_count": 7,
   "id": "38f7ab34",
   "metadata": {},
   "outputs": [
    {
     "name": "stdout",
     "output_type": "stream",
     "text": [
      "1차원\n",
      "[10 20 30 40]\n",
      "\n",
      "2차원\n",
      "[[1 2 3]\n",
      " [4 5 6]]\n",
      "\n",
      "3차원\n",
      "[[[ 1  3  5]\n",
      "  [ 7  9 11]]\n",
      "\n",
      " [[ 2  4  6]\n",
      "  [ 8 10 12]]]\n",
      "\n",
      "(2, 2, 3)\n"
     ]
    }
   ],
   "source": [
    "a = 10 # 스칼라Scalar (0차원 데이터)\n",
    "b = [10, 20, 30, 40] # 벡터Vector (1차원) **물론 개념상의 구분임. list 자료구조에는 차원 개념이 없음\n",
    "c = [ # 행렬Matrix (2차원)\n",
    "    [1, 2, 3],\n",
    "    [4, 5, 6]\n",
    "]\n",
    "d = [ # 3차원\n",
    "    [\n",
    "        [1, 3, 5],\n",
    "        [7, 9, 11]\n",
    "    ],\n",
    "    [\n",
    "        [2, 4, 6],\n",
    "        [8, 10, 12]\n",
    "    ]\n",
    "]\n",
    "\n",
    "# 벡터에 대해\n",
    "# 수학, 물리에서는 방향성을 가진 물리량을 벡터라고 칭하지만,\n",
    "# 여기서는 1차원 데이터 집합을 벡터로 지칭한다.\n",
    "\n",
    "# 다차원 행렬에 대해\n",
    "# 데이터를 다루는데 있어서 3차원 이상의 행렬을 사용할 일이 있는가?\n",
    "# 대표적인 3차원 행렬이 이미지이다. 세로, 가로, 색상정보로 이루어지게 된다.\n",
    "# 이미지로 이루어진 배열은 4차원 행렬로 다루어야 한다.\n",
    "\n",
    "arr = np.array(b)\n",
    "print('1차원')\n",
    "print(arr)\n",
    "print()\n",
    "\n",
    "arr = np.array(c)\n",
    "print('2차원')\n",
    "print(arr)\n",
    "print()\n",
    "\n",
    "arr = np.array(d)\n",
    "print('3차원')\n",
    "print(arr)\n",
    "print()\n",
    "print(arr.shape) # (2, 2, 3) = 2면 2행 3열\n",
    "                 # 튜플의 요소 개수 3개 -> 3차원\n",
    "                 # 각 튜플은 각 차원의 요소 수를 의미\n",
    "                 # 3차원 2개 / 2차원 2개 / 1차원 3개\n",
    "                 # 모두 곱하면 전체 요소 수"
   ]
  },
  {
   "cell_type": "code",
   "execution_count": 12,
   "id": "d441d65e",
   "metadata": {},
   "outputs": [
    {
     "name": "stdout",
     "output_type": "stream",
     "text": [
      "numpy.zeros((3, 4))\n",
      "[[0. 0. 0. 0.]\n",
      " [0. 0. 0. 0.]\n",
      " [0. 0. 0. 0.]]\n",
      "\n",
      "numpy.arange(0, 10, 2)\n",
      "[0 2 4 6 8]\n"
     ]
    }
   ],
   "source": [
    "# ndarray를 만드는 기본 방법: numpy.array()\n",
    "\n",
    "# 영행렬 numpy.zeros(shape_tuple)\n",
    "print('numpy.zeros((3, 4))')\n",
    "# 인자로 주어진 shape에 해당하는 배열을 만들고 0으로 채운다.\n",
    "arr = np.zeros((3, 4)) # 3행 4열\n",
    "print(arr)\n",
    "# [[0. 0. 0. 0.]\n",
    "# [0. 0. 0. 0.]\n",
    "# [0. 0. 0. 0.]]\n",
    "print()\n",
    "\n",
    "# 범위 numpy.arange(start, end, step)\n",
    "# 특정 범위에 해당하는 1차원 배열 출력\n",
    "print('numpy.arange(0, 10, 2)')\n",
    "arr = np.arange(0, 10, 2) # 기본 클래스인 range와 다름\n",
    "print(arr) # [0 2 4 6 8]\n",
    "# 주의: 범위에 대한 개념을 가지고 있는 range와 다르게, numpy.arange는 실제 해당 범위의 값을 메모리에 할당하여 가지고 있음"
   ]
  },
  {
   "cell_type": "code",
   "execution_count": 44,
   "id": "8579bfd7",
   "metadata": {
    "scrolled": true
   },
   "outputs": [
    {
     "name": "stdout",
     "output_type": "stream",
     "text": [
      "# arr\n",
      "[ 0  1  2  3  4  5  6  7  8  9 10 11]\n",
      "\n",
      "# arr.reshape(2, 6)\n",
      "[[ 0  1  2  3  4  5]\n",
      " [ 6  7  8  9 10 11]]\n",
      "\n",
      "# reshaped ndarray share values with original ndarray\n",
      "arr[-1] = 100\n",
      "arr\n",
      "[  0   1   2   3   4   5   6   7   8   9  10 100]\n",
      "arr_reshaped\n",
      "[[  0   1   2   3   4   5]\n",
      " [  6   7   8   9  10 100]]\n",
      "\n",
      "# reshape to 3 demensional matrix\n",
      "# arr.reshape(2, 2, 3)\n",
      "[[[  0   1   2]\n",
      "  [  3   4   5]]\n",
      "\n",
      " [[  6   7   8]\n",
      "  [  9  10 100]]]\n",
      "\n",
      "# reshape but fix the number of columns\n",
      "arr.reshape(-1, 2)\n",
      "[[  0   1]\n",
      " [  2   3]\n",
      " [  4   5]\n",
      " [  6   7]\n",
      " [  8   9]\n",
      " [ 10 100]]\n",
      "\n",
      "# or you can fix the number of rows\n",
      "arr.reshape(3, -1)\n",
      "[[  0   1   2   3]\n",
      " [  4   5   6   7]\n",
      " [  8   9  10 100]]\n",
      "\n",
      "# and ok with 3 dimensional matrix\n",
      "arr.reshape(-1, 2, 2)\n",
      "[[[  0   1]\n",
      "  [  2   3]]\n",
      "\n",
      " [[  4   5]\n",
      "  [  6   7]]\n",
      "\n",
      " [[  8   9]\n",
      "  [ 10 100]]]\n",
      "\n",
      "# but should not ambiguous\n",
      "arr.reshape(-1, 3, -1)\n",
      "an exception throwed: \n",
      "can only specify one unknown dimension\n",
      "\n"
     ]
    }
   ],
   "source": [
    "# ndarray.reshape(n, m [, o])\n",
    "# ndarray를 특정 형태로 변형\n",
    "\n",
    "print('# arr')\n",
    "arr = np.arange(0, 12, 1) # 1차원 ndarray\n",
    "print(arr)\n",
    "print()\n",
    "\n",
    "print('# arr.reshape(2, 6)')\n",
    "arr_reshaped = arr.reshape(2, 6)\n",
    "print(arr_reshaped)\n",
    "print()\n",
    "\n",
    "print('# reshaped ndarray share values with original ndarray')\n",
    "print('arr[-1] = 100')\n",
    "arr[-1] = 100\n",
    "print('arr')\n",
    "print(arr)\n",
    "print('arr_reshaped')\n",
    "print(arr_reshaped) # reshape된 ndarray에도 값이 변해있음.\n",
    "                    # 즉, ndarray.reshape는 원본 데이터를 복사하는 것이 아니라,\n",
    "                    # 기존 데이터로부터 형태만 바꿔서 보여주는 것이라고 보면 됨.\n",
    "                    # 데이터는 여전히 원본이 가지고 있음.\n",
    "                    # 따라서 이를 view라고 부름\n",
    "print()\n",
    "\n",
    "print('# reshape to 3 demensional matrix')\n",
    "print('# arr.reshape(2, 2, 3)')\n",
    "arr_reshaped = arr.reshape(2, 2, 3) # 2면 2행 3열\n",
    "print(arr_reshaped)\n",
    "print()\n",
    "\n",
    "print('# reshape but fix the number of columns')\n",
    "print('arr.reshape(-1, 2)')\n",
    "arr_reshaped = arr.reshape(-1, 2)\n",
    "print(arr_reshaped)\n",
    "print()\n",
    "\n",
    "print('# or you can fix the number of rows')\n",
    "print('arr.reshape(3, -1)')\n",
    "arr_reshaped = arr.reshape(3, -1)\n",
    "print(arr_reshaped)\n",
    "print()\n",
    "\n",
    "print('# and ok with 3 dimensional matrix')\n",
    "print('arr.reshape(-1, 2, 2)')\n",
    "arr_reshaped = arr.reshape(-1, 2, 2)\n",
    "print(arr_reshaped)\n",
    "print()\n",
    "\n",
    "print('# but should not ambiguous')\n",
    "print('arr.reshape(-1, 3, -1)')\n",
    "try:\n",
    "    arr_reshaped = arr.reshape(-1, 3, -1)\n",
    "    print(arr_reshaped)\n",
    "except ValueError as e:\n",
    "    print('an exception throwed: ')\n",
    "    print(e)\n",
    "print()"
   ]
  },
  {
   "cell_type": "code",
   "execution_count": 55,
   "id": "375da02e",
   "metadata": {},
   "outputs": [
    {
     "name": "stdout",
     "output_type": "stream",
     "text": [
      "whole:\n",
      "[0 1 2 3 4]\n",
      "\n",
      "last value / arr[-1]\n",
      "4\n",
      "\n",
      "slicing / arr[0:2]\n",
      "[0 1]\n",
      "\n",
      "slicing / arr[2:-1]\n",
      "[2 3]\n",
      "\n",
      "slicing / arr[0:2]\n",
      "[0 2 4]\n"
     ]
    }
   ],
   "source": [
    "# 1차원 ndarray의 indexing과 slicing\n",
    "\n",
    "arr = np.arange(0, 5, 1)\n",
    "print('whole:')\n",
    "print(arr) # [0 1 2 3 4]\n",
    "\n",
    "print('\\nlast value / arr[-1]')\n",
    "print(arr[-1]) # 4\n",
    "\n",
    "print('\\nslicing / arr[0:2]')\n",
    "print(arr[0:2]) # [0 1]\n",
    "\n",
    "print('\\nslicing / arr[2:-1]')\n",
    "print(arr[2:-1]) # [2 3]\n",
    "\n",
    "print('\\nslicing / arr[0::2]') # arr[start:end:step]\n",
    "print(arr[0::2]) # [0 2 4]"
   ]
  },
  {
   "cell_type": "code",
   "execution_count": 61,
   "id": "c7e0c954",
   "metadata": {},
   "outputs": [
    {
     "name": "stdout",
     "output_type": "stream",
     "text": [
      "[[ 1  2  3  4]\n",
      " [ 5  6  7  8]\n",
      " [ 9 10 11 12]\n",
      " [13 14 15 16]]\n",
      "\n",
      "indexing (1, 2)\n",
      "7\n",
      "\n",
      "indexing + slicing (1, 2:4)\n",
      "[7 8]\n",
      "\n",
      "indexing + slicing (:, 2)\n",
      "[ 3  7 11 15]\n"
     ]
    }
   ],
   "source": [
    "# 2차원 ndarray의 indexing과 slicing\n",
    "\n",
    "arr = np.arange(1, 17, 1).reshape(4, 4)\n",
    "print(arr)\n",
    "# [[ 1  2  3  4]\n",
    "#  [ 5  6  7  8]\n",
    "#  [ 9 10 11 12]\n",
    "#  [13 14 15 16]]\n",
    "\n",
    "print('\\nindexing (1, 2)')\n",
    "print(arr[1, 2]) # 7\n",
    "\n",
    "print('\\nindexing + slicing (1, 2:4)')\n",
    "print(arr[1, 2:4]) # [7 8] (1차원 ndarray)\n",
    "\n",
    "print('\\nindexing + slicing (:, 2)')\n",
    "print(arr[:, 2]) # [ 3  7 11 15] 모든 행에 대해 2번째 값들을 가져오기\n",
    "\n"
   ]
  },
  {
   "cell_type": "code",
   "execution_count": 67,
   "id": "242bd551",
   "metadata": {},
   "outputs": [
    {
     "name": "stdout",
     "output_type": "stream",
     "text": [
      "[0 1 2 3 4]\n",
      "\n",
      "[0 1 2 3 4]\n",
      "[ True False  True  True False]\n",
      "[0 2 3]\n"
     ]
    }
   ],
   "source": [
    "# Boolean indexing\n",
    "# indexing에 Boolean mask를 이용\n",
    "# 예> arr[boolean_mask]\n",
    "\n",
    "arr = np.arange(0, 5, 1)\n",
    "print(arr)\n",
    "\n",
    "# Boolean mask는 인덱싱을 적용할 ndarray와 shape이 같으며,\n",
    "# Bool 값을 가지는 ndarry\n",
    "boolean_mask = np.array([True, False, True, True, False])\n",
    "\n",
    "print()\n",
    "print(arr)\n",
    "print(boolean_mask)\n",
    "print(arr[boolean_mask]) # [0 2 3]\n",
    "\n",
    "# boolean_mask가 True인 위치의 값들만 걸러져 반환되었다."
   ]
  },
  {
   "cell_type": "code",
   "execution_count": 72,
   "id": "b3c9a574",
   "metadata": {},
   "outputs": [
    {
     "name": "stdout",
     "output_type": "stream",
     "text": [
      "[1 2 3 4 5]\n",
      "[5 4 3 2 1]\n",
      "[6 6 6 6 6]\n",
      "[False False False  True  True]\n"
     ]
    }
   ],
   "source": [
    "# [참고] ndarray의 연산 기초\n",
    "\n",
    "arr = np.array([1, 2, 3, 4, 5])\n",
    "print(arr)\n",
    "\n",
    "arr1 = np.array([5, 4, 3, 2, 1])\n",
    "print(arr1)\n",
    "\n",
    "print(arr + arr1) # [6 6 6 6 6] / 연결되는 것이 아니라, 행렬의 덧셈이 이뤄짐\n",
    "\n",
    "print(arr > arr1) # [False False False  True  True] / 위치마다 각 값이 비교됨 -> Boolean mask로 사용 가능"
   ]
  },
  {
   "cell_type": "code",
   "execution_count": 78,
   "id": "058b8acb",
   "metadata": {},
   "outputs": [
    {
     "name": "stdout",
     "output_type": "stream",
     "text": [
      "[0 2 4 6 8]\n"
     ]
    }
   ],
   "source": [
    "# Boolean indexing (이어서)\n",
    "\n",
    "# 짝수만 뽑기\n",
    "arr = np.arange(0, 10, 1)\n",
    "print(arr[arr % 2 == 0]) # [0 2 4 6 8]"
   ]
  },
  {
   "cell_type": "code",
   "execution_count": 88,
   "id": "67f6831a",
   "metadata": {},
   "outputs": [
    {
     "name": "stdout",
     "output_type": "stream",
     "text": [
      "[[ 0  1  2  3]\n",
      " [ 4  5  6  7]\n",
      " [ 8  9 10 11]]\n",
      "10\n",
      "[6]\n",
      "[[5]]\n",
      "\n",
      "[[0 1 2]\n",
      " [4 5 6]]\n",
      "\n",
      "[[0 2]\n",
      " [4 6]]\n"
     ]
    }
   ],
   "source": [
    "# Fancy indexing\n",
    "\n",
    "arr = np.arange(0, 12, 1).reshape(3, 4).copy() # 값을 복사했으므로 뷰가 아닌 실제 값의 집합\n",
    "\n",
    "print(arr)\n",
    "# [[ 0  1  2  3]\n",
    "#  [ 4  5  6  7]\n",
    "#  [ 8  9 10 11]]\n",
    "\n",
    "# 일반적인 인덱싱\n",
    "print(arr[2, 2]) # 10 (스칼라)\n",
    "print(arr[1:2, 2]) # [6] / 한 쪽만 슬라이싱이므로 1차원 ndarray가 반환됨 (벡터)\n",
    "print(arr[1:2, 1:2]) # [[5]] / 두 쪽 모두 슬라이싱이므로 2차원  ndarray가 반환됨 (행렬)\n",
    "print()\n",
    "\n",
    "# [0 1 2]\n",
    "# [4 5 6]\n",
    "# 을 뽑아내려면,\n",
    "print(arr[:2, :-1]) # -1 마지막열은 배제\n",
    "print()\n",
    "\n",
    "# 그럼,\n",
    "# [0 2]\n",
    "# [4 6]\n",
    "# 을 뽑아내려면, => Fancy indexing 사용\n",
    "print(arr[:2, [0, 2]]) # 추출하고 싶은 인덱스를 리스트로 넣어줌\n",
    "# => EDA(Exploratory Data Analysis, 탐색적 데이터 분석)"
   ]
  },
  {
   "cell_type": "code",
   "execution_count": 100,
   "id": "2c65c5b8",
   "metadata": {},
   "outputs": [
    {
     "name": "stdout",
     "output_type": "stream",
     "text": [
      "[[1 2]\n",
      " [3 4]\n",
      " [5 6]] \n",
      "\n",
      "[[1 2 3]\n",
      " [4 5 6]]\n",
      "ValueError operands could not be broadcast together with shapes (3,2) (2,3) \n",
      "연산을 수행하려면 shape이 무조건 가능해아 함\n"
     ]
    }
   ],
   "source": [
    "# ndarray의 연산\n",
    "\n",
    "arr = np.array([\n",
    "    [1, 2, 3],\n",
    "    [4, 5, 6]\n",
    "])\n",
    "\n",
    "arr1 = np.arange(1, 7, 1).reshape(3, 2)\n",
    "arr2 = np.arange(1, 7, 1).reshape(2, 3)\n",
    "print(arr1, '\\n')\n",
    "print(arr2)\n",
    "\n",
    "try:\n",
    "    print(arr1 + arr2) # ValueError: operands could not be broadcast together with shapes (3,2) (2,3) \n",
    "except ValueError as e:\n",
    "    print('ValueError', e)\n",
    "    print('연산을 수행하려면 shape이 무조건 가능해아 함')"
   ]
  },
  {
   "cell_type": "code",
   "execution_count": 107,
   "id": "c52e5424",
   "metadata": {
    "scrolled": true
   },
   "outputs": [
    {
     "name": "stdout",
     "output_type": "stream",
     "text": [
      "[1 2 3 4 5]\n",
      "[4 5 6 7 8]\n",
      "\n",
      "[[3 4 5]\n",
      " [6 7 8]]\n",
      "\n",
      "[[0 1 2]\n",
      " [3 4 5]]\n",
      "[[1 3 5]\n",
      " [4 6 8]]\n"
     ]
    }
   ],
   "source": [
    "arr = np.array([1, 2, 3, 4, 5])\n",
    "print(arr)\n",
    "print(arr + 3) # shape가 달라서(1차원/0차원) 연산이 불가할 것같지만,\n",
    "               # arr + [3, 3, 3, 3, 3]와 같이 차원을 높여줌.\n",
    "               # 이러한 과정을 브로드캐스팅 Braodcating이라고 부름\n",
    "# [1 2 3 4 5]\n",
    "# [4 5 6 7 8]\n",
    "print()\n",
    "        \n",
    "        \n",
    "arr = np.arange(0, 6, 1).reshape(2, 3)\n",
    "print(arr + 3)\n",
    "# [[3 4 5] \\2차원 배열로 브로드캐스팅됨.\n",
    "# [6 7 8]]\n",
    "print()\n",
    "\n",
    "arr1 = np.array([1, 2, 3])\n",
    "print(arr)\n",
    "print(arr + arr1)"
   ]
  },
  {
   "cell_type": "code",
   "execution_count": 120,
   "id": "4aeef491",
   "metadata": {},
   "outputs": [
    {
     "name": "stdout",
     "output_type": "stream",
     "text": [
      "[[1 2]\n",
      " [3 4]\n",
      " [5 6]]\n",
      "\n",
      "[[1 2]\n",
      " [3 4]]\n",
      "\n",
      "[[ 7 10]\n",
      " [15 22]\n",
      " [23 34]]\n"
     ]
    }
   ],
   "source": [
    "# 행렬곱연산 (Matrix Multiplication)\n",
    "# 기본적인 사칙연산, 비교연산 외에 행렬곱연산도 가능.\n",
    "# 머신러닝에서 사용되므로 알아야함.\n",
    "\n",
    "arr1 = np.array([\n",
    "    [1, 2],\n",
    "    [3, 4],\n",
    "    [5, 6]\n",
    "])\n",
    "print(arr1)\n",
    "print()\n",
    "\n",
    "arr2 = np.array([\n",
    "    [1, 2],\n",
    "    [3, 4]\n",
    "])\n",
    "print(arr2)\n",
    "print()\n",
    "\n",
    "print(np.dot(arr1, arr2)) # 행렬곱"
   ]
  },
  {
   "cell_type": "code",
   "execution_count": 134,
   "id": "6adbb388",
   "metadata": {},
   "outputs": [
    {
     "name": "stdout",
     "output_type": "stream",
     "text": [
      "[1 2 3 4 5]\n",
      "15\n",
      "3.0\n",
      "5\n",
      "4\n",
      "15\n",
      "\n",
      "[[1 2 3]\n",
      " [4 5 6]]\n",
      "21\n",
      "[5 7 9]\n",
      "[ 6 15]\n"
     ]
    }
   ],
   "source": [
    "# 집계함수와 축\n",
    "# for문보다 훨씬 빠름\n",
    "\n",
    "arr = np.arange(1, 6, 1)\n",
    "print(arr)\n",
    "\n",
    "# 합계\n",
    "print(arr.sum()) # 15\n",
    "\n",
    "# 평균 (산술평균)\n",
    "print(arr.mean()) # 3.0\n",
    "\n",
    "# 최대값\n",
    "print(arr.max()) # 5\n",
    "\n",
    "# 최대값의 인덱스\n",
    "print(arr.argmax()) # 4\n",
    "\n",
    "# 축(axis)\n",
    "# n차원 ndarray는 축이 n개\n",
    "# 축을 0부터 시작하는 수로 표현함 (1차원 축 1개 -> 0번 축) (2차원 축 2개 -> 0번 축, 1번 축)\n",
    "\n",
    "## 1차원 ndarray의 축\n",
    "print(arr.sum(axis=0), end='\\n\\n') # 0번 축(열 방향)의 진행 방향으로 진행하는 값의 합계\n",
    "\n",
    "## 2차원 ndarray의 축\n",
    "arr = np.arange(1, 7, 1).reshape(2, 3)\n",
    "print(arr)\n",
    "# [[1 2 3]\n",
    "# [4 5 6]]\n",
    "\n",
    "print(arr.sum()) # axis를 생략하면 기본값으로 축에 상관 없이 합계를 구함\n",
    "# 21\n",
    "\n",
    "# 2차원 ndarray의 축\n",
    "# 1. 행이 증가하는 방향의 축 => 0번 축 (위에서 아래로)\n",
    "# 2. 열이 증가하는 방향의 축 => 1번 축 (왼쪽에서 오른쪽으로)\n",
    "#\n",
    "# *이때 0번 축이 1차원 ndarray에서는 열 방향 축이었는데, 2차원 ndarray에서는 행 방향 축이 되었음에 주의.\n",
    "# 축의 번호는 차원에 따라 변하게 됨\n",
    "\n",
    "print(arr.sum(axis=0)) # 행방향(위에서 아래로)으로 더하면 값이 3개가 나옴. 1차원 ndarray 반환.\n",
    "# [5 7 9]\n",
    "\n",
    "print(arr.sum(axis=1)) # 열방향(왼쪽에서 오른쪽로)으로 더하면 값이 2개가 나옴. 1차원 ndarray 반환.\n",
    "# [ 6 15]"
   ]
  },
  {
   "cell_type": "code",
   "execution_count": 137,
   "id": "4a0027f5",
   "metadata": {},
   "outputs": [
    {
     "name": "stdout",
     "output_type": "stream",
     "text": [
      "[11 12 13 14 15 16]\n",
      "81\n"
     ]
    }
   ],
   "source": [
    "# 예제\n",
    "\n",
    "# 다음의 2차원 ndarray에서, 10보다 큰 값의 합을 구하라\n",
    "\n",
    "arr = np.array([\n",
    "    [1, 2, 3, 4],\n",
    "    [5, 6, 7, 8],\n",
    "    [9, 10, 11, 12],\n",
    "    [13, 14, 15, 16]\n",
    "])\n",
    "\n",
    "print(arr[arr > 10])\n",
    "print(arr[arr > 10].sum()) # 답: 81"
   ]
  }
 ],
 "metadata": {
  "kernelspec": {
   "display_name": "Python [conda env:data_env] *",
   "language": "python",
   "name": "conda-env-data_env-py"
  },
  "language_info": {
   "codemirror_mode": {
    "name": "ipython",
    "version": 3
   },
   "file_extension": ".py",
   "mimetype": "text/x-python",
   "name": "python",
   "nbconvert_exporter": "python",
   "pygments_lexer": "ipython3",
   "version": "3.8.16"
  }
 },
 "nbformat": 4,
 "nbformat_minor": 5
}

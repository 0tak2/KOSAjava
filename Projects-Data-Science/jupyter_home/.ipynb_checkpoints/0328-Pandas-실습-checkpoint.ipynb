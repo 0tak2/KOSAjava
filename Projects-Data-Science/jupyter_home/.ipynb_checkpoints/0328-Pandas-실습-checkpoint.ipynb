{
 "cells": [
  {
   "cell_type": "markdown",
   "id": "e5e609d6",
   "metadata": {},
   "source": [
    "# Pandas\n",
    "\n",
    "- 실질적으로 데이터 처리를 위해 사용하는 모듈\n",
    "- 두 개의 자료구조를 제공 (ndarray 기반)\n",
    "    1. Series: 1차원 ndarray를 기반으로 만든 자료구조\n",
    "    2. DataFrame: Series를 세로로 이어 붙여 만든 2차원 자료 구조\n",
    "\n",
    "사용 전 pandas 모듈 설치 필요\n",
    "\n",
    "```sh\n",
    "conda install pandas\n",
    "```"
   ]
  },
  {
   "cell_type": "code",
   "execution_count": 1,
   "id": "99b5e129",
   "metadata": {},
   "outputs": [
    {
     "name": "stdout",
     "output_type": "stream",
     "text": [
      "pandas imported!\n"
     ]
    }
   ],
   "source": [
    "import numpy as np # numpy를 필요로 함\n",
    "import pandas as pd\n",
    "\n",
    "print('pandas imported!')"
   ]
  },
  {
   "cell_type": "markdown",
   "id": "e9a747f9",
   "metadata": {},
   "source": [
    "## Series"
   ]
  },
  {
   "cell_type": "code",
   "execution_count": 6,
   "id": "81ae0dc0",
   "metadata": {},
   "outputs": [
    {
     "name": "stdout",
     "output_type": "stream",
     "text": [
      "0    -1.0\n",
      "1     5.0\n",
      "2    10.0\n",
      "3    99.0\n",
      "dtype: float64\n",
      "\n",
      "[-1.  5. 10. 99.]\n",
      "\n",
      "RangeIndex(start=0, stop=4, step=1)\n",
      "\n"
     ]
    }
   ],
   "source": [
    "# Series\n",
    "\n",
    "s = pd.Series([-1, 5, 10, 99], dtype=\"float64\") # 값의 타입을 정수가 아닌 실수로 지정\n",
    "print(s, end='\\n\\n')\n",
    "\n",
    "# 0    -1.0\n",
    "# 1     5.0\n",
    "# 2    10.0\n",
    "# 3    99.0\n",
    "# dtype: float64\n",
    "\n",
    "## 가로가 아닌 세로로 표현됨\n",
    "## 인덱스 번호 및 데이터 타입까지 표시됨.\n",
    "## 내부적으로는 ndarray에 값이 들어가있음.\n",
    "\n",
    "print(s.values, end='\\n\\n') # Series 내부의 ndarray를 뽑아내기\n",
    "# [-1.  5. 10. 99.]\n",
    "\n",
    "print(s.index, end='\\n\\n') # 인덱스 정보 보기\n",
    "# RangeIndex(start=0, stop=4, step=1)"
   ]
  },
  {
   "cell_type": "code",
   "execution_count": 14,
   "id": "b153792a",
   "metadata": {},
   "outputs": [
    {
     "name": "stdout",
     "output_type": "stream",
     "text": [
      "c     1.0\n",
      "b     5.0\n",
      "a   -10.0\n",
      "k    30.0\n",
      "dtype: float64\n",
      "\n",
      "5.0\n",
      "5.0\n"
     ]
    }
   ],
   "source": [
    "s = pd.Series([1, 5, -10, 30],\n",
    "              dtype=np.float64, # 데이터 타입 지정시 문자열을 지정할 수도 있고 Numpy의 속성을 지정할 수도 있음\n",
    "              index=['c', 'b', 'a', 'k']) # 인덱스를 지정할 수 있음.\n",
    "\n",
    "print(s, end='\\n\\n')\n",
    "\n",
    "\n",
    "# c     1.0\n",
    "# b     5.0\n",
    "# a   -10.0\n",
    "# k    30.0\n",
    "# dtype: float64\n",
    "## 지정한 인덱스와 그에 따른 값이 출력됨\n",
    "\n",
    "print(s[1]) # 숫자 인덱스는 index 옵션으로 지정하지 않더라도 사용 가능\n",
    "print(s['b']) # index 옵션으로 지정한 인덱스도 사용 가능"
   ]
  },
  {
   "cell_type": "code",
   "execution_count": 21,
   "id": "6d892b7c",
   "metadata": {},
   "outputs": [
    {
     "name": "stdout",
     "output_type": "stream",
     "text": [
      "0       1.0\n",
      "2       5.0\n",
      "100   -10.0\n",
      "6      30.0\n",
      "dtype: float64\n",
      "\n",
      "-10.0\n",
      "인덱스를 수로 지정하는 경우 기본적으로 부여되는 숫자 인덱스는 사용 불가\n"
     ]
    }
   ],
   "source": [
    "s = pd.Series([1, 5, -10, 30],\n",
    "              dtype=np.float64,\n",
    "              index=[0, 2, 100, 6]) # 숫자를 인덱스로 지정할 수도 있음.\n",
    "\n",
    "print(s, end='\\n\\n')\n",
    "\n",
    "print(s[100]) # 위에서 지정한 인덱스에 해당하는 값이 출력\n",
    "\n",
    "try:\n",
    "    print(s[1])\n",
    "except KeyError as e:\n",
    "    print('인덱스를 수로 지정하는 경우 기본적으로 부여되는 숫자 인덱스는 사용 불가')\n",
    "    # 따라서 보통 사용자 지정 인덱스로 숫자를 지정하지는 않음."
   ]
  },
  {
   "cell_type": "code",
   "execution_count": 27,
   "id": "86c06dca",
   "metadata": {},
   "outputs": [
    {
     "name": "stdout",
     "output_type": "stream",
     "text": [
      "c     1.0\n",
      "b     5.0\n",
      "a   -10.0\n",
      "k    30.0\n",
      "dtype: float64\n",
      "\n",
      "c     1.0\n",
      "b     5.0\n",
      "a   -10.0\n",
      "dtype: float64\n",
      "\n",
      "c     1.0\n",
      "b     5.0\n",
      "a   -10.0\n",
      "k    30.0\n",
      "dtype: float64\n"
     ]
    }
   ],
   "source": [
    "s = pd.Series([1, 5, -10, 30],\n",
    "              dtype=np.float64,\n",
    "              index=['c', 'b', 'a', 'k'])\n",
    "\n",
    "print(s, end='\\n\\n')\n",
    "\n",
    "print(s[0:3], end='\\n\\n') # Series를 슬라이스했으므로 슬라이스된 Series 반환\n",
    "# c     1.0\n",
    "# b     5.0\n",
    "# a   -10.0\n",
    "# dtype: float64\n",
    "\n",
    "print(s['c':'k']) # 지정 인덱스로 슬라이스 하는 경우 뒤에 지정한 인덱스의 값도 포함되므로 주의"
   ]
  },
  {
   "cell_type": "code",
   "execution_count": 30,
   "id": "4db7be43",
   "metadata": {},
   "outputs": [
    {
     "name": "stdout",
     "output_type": "stream",
     "text": [
      "a   -10.0\n",
      "k    30.0\n",
      "dtype: float64\n",
      "(4,)\n",
      "26.0\n"
     ]
    }
   ],
   "source": [
    "# 특수한 인덱싱 방법과 집계함수\n",
    "\n",
    "print(s[s % 2 == 0]) # Boolean Mask 사용\n",
    "# a   -10.0\n",
    "# k    30.0\n",
    "# dtype: float64\n",
    "## => Boolean indexing 및 Fancy indexing 모두 사용 가능\n",
    "\n",
    "print(s.shape) # np의 shape 사용 가능\n",
    "print(s.sum()) # np의 sum 사용 가능\n",
    "\n"
   ]
  },
  {
   "cell_type": "code",
   "execution_count": 43,
   "id": "edb35f60",
   "metadata": {},
   "outputs": [
    {
     "name": "stdout",
     "output_type": "stream",
     "text": [
      "<class 'dict'>\n"
     ]
    },
    {
     "data": {
      "text/plain": [
       "서울    2000원\n",
       "부산    3000원\n",
       "인천     500원\n",
       "dtype: object"
      ]
     },
     "metadata": {},
     "output_type": "display_data"
    }
   ],
   "source": [
    "# Series를 dictionary를 이용해 생성\n",
    "\n",
    "my_dict = {\n",
    "    '서울': '2000원',\n",
    "    '부산': '3000원',\n",
    "    '인천': '500원'\n",
    "}\n",
    "\n",
    "print(type(my_dict)) # <class 'dict'>\n",
    "\n",
    "s = pd.Series(my_dict)\n",
    "print(s)\n",
    "\n",
    "# 서울    2000원\n",
    "# 부산    3000원\n",
    "# 인천     500원\n",
    "# dtype: object"
   ]
  },
  {
   "cell_type": "markdown",
   "id": "3a59f1c6",
   "metadata": {},
   "source": [
    "⇒ 정리하자면 Series는 1차원 ndarray에 사용자 지정 index를 추가한 자료 구조라고 할 수 있다.  \n",
    "일반적으로 Series를 직접 만들어 사용하지는 않고, DataFrame을 만들어 사용하게 된다.\n",
    "다만 DataFrame도 Series의 집합이므로 Series도 숙지하고 있어야 한다.\n",
    "\n",
    "## DataFrame\n",
    "\n",
    "DataFrame은 엑셀과 유사한 2차원 배열 구조이다. Series를 합친 형태이다."
   ]
  },
  {
   "cell_type": "code",
   "execution_count": 53,
   "id": "231145d0",
   "metadata": {},
   "outputs": [
    {
     "data": {
      "text/html": [
       "<div>\n",
       "<style scoped>\n",
       "    .dataframe tbody tr th:only-of-type {\n",
       "        vertical-align: middle;\n",
       "    }\n",
       "\n",
       "    .dataframe tbody tr th {\n",
       "        vertical-align: top;\n",
       "    }\n",
       "\n",
       "    .dataframe thead th {\n",
       "        text-align: right;\n",
       "    }\n",
       "</style>\n",
       "<table border=\"1\" class=\"dataframe\">\n",
       "  <thead>\n",
       "    <tr style=\"text-align: right;\">\n",
       "      <th></th>\n",
       "      <th>names</th>\n",
       "      <th>year</th>\n",
       "      <th>point</th>\n",
       "    </tr>\n",
       "  </thead>\n",
       "  <tbody>\n",
       "    <tr>\n",
       "      <th>0</th>\n",
       "      <td>홍길동</td>\n",
       "      <td>2020</td>\n",
       "      <td>3.0</td>\n",
       "    </tr>\n",
       "    <tr>\n",
       "      <th>1</th>\n",
       "      <td>신사임당</td>\n",
       "      <td>2021</td>\n",
       "      <td>4.0</td>\n",
       "    </tr>\n",
       "    <tr>\n",
       "      <th>2</th>\n",
       "      <td>강감찬</td>\n",
       "      <td>2022</td>\n",
       "      <td>5.0</td>\n",
       "    </tr>\n",
       "  </tbody>\n",
       "</table>\n",
       "</div>"
      ],
      "text/plain": [
       "  names  year  point\n",
       "0   홍길동  2020    3.0\n",
       "1  신사임당  2021    4.0\n",
       "2   강감찬  2022    5.0"
      ]
     },
     "metadata": {},
     "output_type": "display_data"
    },
    {
     "name": "stdout",
     "output_type": "stream",
     "text": [
      "각 열의 길이가 다르면 오류가 발생\n",
      "All arrays must be of the same length\n"
     ]
    },
    {
     "data": {
      "text/html": [
       "<div>\n",
       "<style scoped>\n",
       "    .dataframe tbody tr th:only-of-type {\n",
       "        vertical-align: middle;\n",
       "    }\n",
       "\n",
       "    .dataframe tbody tr th {\n",
       "        vertical-align: top;\n",
       "    }\n",
       "\n",
       "    .dataframe thead th {\n",
       "        text-align: right;\n",
       "    }\n",
       "</style>\n",
       "<table border=\"1\" class=\"dataframe\">\n",
       "  <thead>\n",
       "    <tr style=\"text-align: right;\">\n",
       "      <th></th>\n",
       "      <th>names</th>\n",
       "      <th>year</th>\n",
       "      <th>point</th>\n",
       "    </tr>\n",
       "  </thead>\n",
       "  <tbody>\n",
       "    <tr>\n",
       "      <th>0</th>\n",
       "      <td>홍길동</td>\n",
       "      <td>2020</td>\n",
       "      <td>3.0</td>\n",
       "    </tr>\n",
       "    <tr>\n",
       "      <th>1</th>\n",
       "      <td>신사임당</td>\n",
       "      <td>2021</td>\n",
       "      <td>4.0</td>\n",
       "    </tr>\n",
       "    <tr>\n",
       "      <th>2</th>\n",
       "      <td>강감찬</td>\n",
       "      <td>2022</td>\n",
       "      <td>NaN</td>\n",
       "    </tr>\n",
       "    <tr>\n",
       "      <th>3</th>\n",
       "      <td>이순신</td>\n",
       "      <td>2023</td>\n",
       "      <td>5.0</td>\n",
       "    </tr>\n",
       "  </tbody>\n",
       "</table>\n",
       "</div>"
      ],
      "text/plain": [
       "  names  year  point\n",
       "0   홍길동  2020    3.0\n",
       "1  신사임당  2021    4.0\n",
       "2   강감찬  2022    NaN\n",
       "3   이순신  2023    5.0"
      ]
     },
     "metadata": {},
     "output_type": "display_data"
    },
    {
     "name": "stdout",
     "output_type": "stream",
     "text": [
      "(4, 3)\n",
      "12\n",
      "RangeIndex(start=0, stop=4, step=1)\n"
     ]
    }
   ],
   "source": [
    "my_dict = {\n",
    "             # 행0       # 행1      # 행2\n",
    "    'names': ['홍길동', '신사임당', '강감찬'], # 열0\n",
    "    'year': [2020, 2021, 2022], # 열1\n",
    "    'point': [3.0, 4.0, 5.0] # 열2\n",
    "}\n",
    "\n",
    "df = pd.DataFrame(my_dict)\n",
    "display(df) # print 대신 display를 사용하면 이쁘게 출력됨\n",
    "\n",
    "# names\tyear\tpoint\n",
    "# 0\t홍길동\t2020\t3.0\n",
    "# 1\t신사임당\t2021\t4.0\n",
    "# 2\t강감찬\t2022\t5.0\n",
    "## 컬럼명, 행번호(인덱스), 각 데이터가 출력되었다.\n",
    "\n",
    "\n",
    "try:\n",
    "    my_dict2 = {\n",
    "        'names': ['홍길동', '신사임당', '강감찬'],\n",
    "        'year': [2020, 2021, 2022],\n",
    "        'point': [3.0, 4.0] # 값이 한 개가 부족하다\n",
    "    }\n",
    "\n",
    "    df2 = pd.DataFrame(my_dict2)\n",
    "    display(df2)\n",
    "except ValueError as e:\n",
    "    print('각 열의 길이가 다르면 오류가 발생')\n",
    "    print(e)\n",
    "\n",
    "# 특정 값을 알 수 없는 경우, np.nan을 넣어준다.\n",
    "my_dict3 = {\n",
    "    'names': ['홍길동', '신사임당', '강감찬', '이순신'],\n",
    "    'year': [2020, 2021, 2022, '2023'],\n",
    "    'point': [3.0, 4.0, np.nan, 5.0]\n",
    "}\n",
    "\n",
    "df3 = pd.DataFrame(my_dict3)\n",
    "display(df3)\n",
    "print(df3.shape) # (4, 3)\n",
    "print(df3.size) # 12\n",
    "print(df3.index) # RangeIndex(start=0, stop=4, step=1)"
   ]
  }
 ],
 "metadata": {
  "kernelspec": {
   "display_name": "Python [conda env:data_env] *",
   "language": "python",
   "name": "conda-env-data_env-py"
  },
  "language_info": {
   "codemirror_mode": {
    "name": "ipython",
    "version": 3
   },
   "file_extension": ".py",
   "mimetype": "text/x-python",
   "name": "python",
   "nbconvert_exporter": "python",
   "pygments_lexer": "ipython3",
   "version": "3.8.16"
  }
 },
 "nbformat": 4,
 "nbformat_minor": 5
}

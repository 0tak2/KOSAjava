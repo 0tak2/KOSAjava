{
 "cells": [
  {
   "cell_type": "markdown",
   "id": "e99eee50",
   "metadata": {},
   "source": [
    "# Pandas 연습문제\n",
    "\n",
    "- 문제 1: 기상 관측 이래, 서울의 최고 기온이 가장 높았던 날은 언제였고, 몇도인가요?\n",
    "- 문제 2: 서울 지역에서, 역사적으로 일교차가 가장 큰 날짜는 몇년 몇월 몇일 인가요?\n",
    "- 문제 3: 서울 지역에서, 1년 중 평균적으로 일교차가 가장 큰 날짜는 몇월 몇일 인가요?\n",
    "- 문제 4: 가장 덥다고 알려진 대구보다 서울이 더 더운날이 가장 많은 연도는 언제인가요?"
   ]
  },
  {
   "cell_type": "code",
   "execution_count": null,
   "id": "115adb91",
   "metadata": {},
   "outputs": [],
   "source": [
    "# 문제 1: 기상 관측 이래, 서울의 최고 기온이 가장 높았던 날은 언제였고, 몇도인가요?\n",
    "\n"
   ]
  },
  {
   "cell_type": "code",
   "execution_count": null,
   "id": "efa57b66",
   "metadata": {},
   "outputs": [],
   "source": [
    "# 문제 2: 서울 지역에서, 역사적으로 일교차가 가장 큰 날짜는 몇년 몇월 몇일 인가요?\n",
    "\n"
   ]
  },
  {
   "cell_type": "code",
   "execution_count": null,
   "id": "5cf2a8a0",
   "metadata": {},
   "outputs": [],
   "source": [
    "# 문제 3: 서울 지역에서, 1년 중 평균적으로 일교차가 가장 큰 날짜는 몇월 몇일 인가요?\n",
    "\n"
   ]
  },
  {
   "cell_type": "code",
   "execution_count": null,
   "id": "8afbac1e",
   "metadata": {},
   "outputs": [],
   "source": [
    "# 문제 4: 가장 덥다고 알려진 대구보다 서울이 더 더운날이 가장 많은 연도는 언제인가요?\n",
    "\n"
   ]
  }
 ],
 "metadata": {
  "kernelspec": {
   "display_name": "Python [conda env:data_env] *",
   "language": "python",
   "name": "conda-env-data_env-py"
  },
  "language_info": {
   "codemirror_mode": {
    "name": "ipython",
    "version": 3
   },
   "file_extension": ".py",
   "mimetype": "text/x-python",
   "name": "python",
   "nbconvert_exporter": "python",
   "pygments_lexer": "ipython3",
   "version": "3.8.16"
  }
 },
 "nbformat": 4,
 "nbformat_minor": 5
}

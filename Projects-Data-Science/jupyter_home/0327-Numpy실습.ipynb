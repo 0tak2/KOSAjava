{
 "cells": [
  {
   "cell_type": "markdown",
   "id": "2637c4c4",
   "metadata": {},
   "source": [
    "# Numpy\n",
    "\n",
    "데이터 분석, 머신러닝, 딥러닝 등의 분야에서 가장 시간이 많이 걸리고 품을 들여야 하는 것이 데이터의 수집과 정제\n",
    "\n",
    "데이터 분석의 결과 혹은 기계학습의 결과가 좋으려면 양질의 데이터를 입력해야한다.\n",
    "\n",
    "- Numpy: Numerical Python. 수치 계산에 특화\n",
    "    - Pandas: 데이터 분석 모듈\n",
    "    - Matplotlib: 데이터 시각화 모듈\n",
    "- Pandas, Matplotlib의 base가 되는 기본 자료구조를 제공\n",
    "\n",
    "뒤로 가면 Numpy를 직접적으로 사용할 일은 많지 않을 것임. Pandas, Matplotlib의 내부 자료 구조로 numpy가 활용되는 것이기 때문.\n",
    "\n",
    "numpy가 제공하는 자료구조 **ndarray**  \n",
    "n-dimensional array - 다차원배열  \n",
    "많은 양의 데이터를 보다 적은 메모리 공간만을 이용해 빠르게 처리하기 위해 리스트 대신 다차원배열을 활용하는 것."
   ]
  },
  {
   "cell_type": "code",
   "execution_count": 7,
   "id": "ae21411b",
   "metadata": {},
   "outputs": [],
   "source": [
    "# numpy는 외부 모듈이므로 설치 후 import가 필요\n",
    "# conda install numpy\n",
    "\n",
    "import numpy as np # alias 'np'"
   ]
  },
  {
   "cell_type": "code",
   "execution_count": 6,
   "id": "08dcf2f0",
   "metadata": {},
   "outputs": [
    {
     "name": "stdout",
     "output_type": "stream",
     "text": [
      "[1, 2, 3, 4, 5]\n",
      "[1 2 3 4 5]\n",
      "<class 'numpy.ndarray'>\n",
      "[1.   2.   3.14 4.   5.  ]\n",
      "float64\n"
     ]
    }
   ],
   "source": [
    "a = [1, 2, 3, 4, 5] # 파이썬 리스트\n",
    "print(a) # [1, 2, 3, 4, 5]\n",
    "\n",
    "b = np.array([1, 2, 3, 4, 5]) # 리스트를 가지고 ndarray를 만든다\n",
    "print(b) # [1 2 3 4 5] 1차원 ndarray\n",
    "\n",
    "print(type(b)) # <class 'numpy.ndarray'> 리스트와 완전히 다른 객체\n",
    "\n",
    "# ndarray의 특징\n",
    "# list 안에는 어떤 타입이든 막 들어올 수 있었다.\n",
    "c = [1, 3.14, '홍길동', True]\n",
    "\n",
    "# 그러나 ndarray에는 반드시 같은 데이터 타입만 들어갈 수 있다.\n",
    "d = np.array([1, 2, 3.14, 4, 5])\n",
    "print(d) # [1.   2.   3.14 4.   5.  ] 모든 값이 실수로 변환되었다.\n",
    "print(d.dtype) # float64. ndarray를 이루는 데이터의 타입 반환"
   ]
  },
  {
   "cell_type": "code",
   "execution_count": 13,
   "id": "9f72809a",
   "metadata": {},
   "outputs": [
    {
     "name": "stdout",
     "output_type": "stream",
     "text": [
      "[[1, 2, 3], [4, 5, 6]]\n",
      "[[1 2 3]\n",
      " [4 5 6]]\n",
      "2\n",
      "[1 2 3]\n",
      "2\n"
     ]
    }
   ],
   "source": [
    "# ndarray와 list의 가장 큰 차이는 차원을 표현할 수 있다는 것\n",
    "\n",
    "myList = [[1, 2, 3], [4, 5, 6]] # 중첩 리스트\n",
    "print(myList)\n",
    "\n",
    "arr = np.array(myList) # 2차원 배열로 2차원 행렬을 표현\n",
    "print(arr)\n",
    "\n",
    "print(arr[0, 1]) # 2 / 0행 1열\n",
    "\n",
    "print(arr[0]) # [1 2 3] / 1차원의 ndarray / 0행 전체\n",
    "\n",
    "print(arr[0][1]) # 따라서 [n, m]을 [n][m]으로 써도 같은 값이 반환된다. 그렇지만 전자처럼 쓰는게 좋다."
   ]
  },
  {
   "cell_type": "code",
   "execution_count": 21,
   "id": "b1565768",
   "metadata": {},
   "outputs": [
    {
     "name": "stdout",
     "output_type": "stream",
     "text": [
      "[1 2 3 4]\n",
      "int32\n",
      "1\n",
      "(4,)\n",
      "(3, 2)\n"
     ]
    }
   ],
   "source": [
    "# ndarray의 중요한 속성\n",
    "\n",
    "arr = np.array([1, 2, 3, 4])\n",
    "print(arr) # [1 2 3 4]\n",
    "print(arr.dtype) # int32\n",
    "print(arr.ndim) # 차원 / 1\n",
    "print(arr.shape) # 많이 사용하는 속성. 형태를 파악할 수 있는 속성을 튜플로 나타냄. 튜플로부터 차원 수, 요소의 개수 알 수 있음\n",
    "                 # ( 차원 수, 차원 당 요소 개수 )\n",
    "\n",
    "b = [[1, 2], [3, 4], [5, 6]]\n",
    "arr = np.array(b)\n",
    "print(arr.shape) # (3, 2) / 3행 2열 / 전체 6개 데이터"
   ]
  },
  {
   "cell_type": "code",
   "execution_count": null,
   "id": "38f7ab34",
   "metadata": {},
   "outputs": [],
   "source": []
  }
 ],
 "metadata": {
  "kernelspec": {
   "display_name": "Python [conda env:data_env] *",
   "language": "python",
   "name": "conda-env-data_env-py"
  },
  "language_info": {
   "codemirror_mode": {
    "name": "ipython",
    "version": 3
   },
   "file_extension": ".py",
   "mimetype": "text/x-python",
   "name": "python",
   "nbconvert_exporter": "python",
   "pygments_lexer": "ipython3",
   "version": "3.8.16"
  }
 },
 "nbformat": 4,
 "nbformat_minor": 5
}

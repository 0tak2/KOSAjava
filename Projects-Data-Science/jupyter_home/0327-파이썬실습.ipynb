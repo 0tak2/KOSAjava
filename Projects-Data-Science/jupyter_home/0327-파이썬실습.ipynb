{
 "cells": [
  {
   "cell_type": "code",
   "execution_count": 1,
   "metadata": {
    "colab": {
     "base_uri": "https://localhost:8080/"
    },
    "executionInfo": {
     "elapsed": 4,
     "status": "ok",
     "timestamp": 1679877480100,
     "user": {
      "displayName": "임영택",
      "userId": "14069782116179841036"
     },
     "user_tz": -540
    },
    "id": "hX0NSk_Qef_f",
    "outputId": "9578b62b-7686-4a2d-de14-3432a436702c"
   },
   "outputs": [
    {
     "name": "stdout",
     "output_type": "stream",
     "text": [
      "Hello World\n"
     ]
    }
   ],
   "source": [
    "# CELL (셀)\n",
    "# 컨트롤 + 엔터를 입력하면 셀의 코드가 실행됨.\n",
    "\n",
    "print('Hello World')"
   ]
  },
  {
   "cell_type": "code",
   "execution_count": 2,
   "metadata": {
    "id": "abv-ZODziARD"
   },
   "outputs": [
    {
     "data": {
      "text/plain": [
       "'\\n여러 줄 주석은 이렇게 달 수도 있지만,\\n 매 줄마다 #을 붙이는 것이 일반적\\n'"
      ]
     },
     "execution_count": 2,
     "metadata": {},
     "output_type": "execute_result"
    }
   ],
   "source": [
    "# 주석 입력 방법\n",
    "# 한 줄 주석은 문장 앞에 #\n",
    "\n",
    "'''\n",
    "여러 줄 주석은 이렇게 달 수도 있지만,\n",
    " 매 줄마다 #을 붙이는 것이 일반적\n",
    "'''"
   ]
  },
  {
   "cell_type": "code",
   "execution_count": 3,
   "metadata": {
    "executionInfo": {
     "elapsed": 273,
     "status": "ok",
     "timestamp": 1679879311373,
     "user": {
      "displayName": "임영택",
      "userId": "14069782116179841036"
     },
     "user_tz": -540
    },
    "id": "V-QCZ8awh_A-"
   },
   "outputs": [],
   "source": [
    "# 변수 정의\n",
    "# 변수의 데이터 타입을 명시하지 않음\n",
    "\n",
    "a = 100\n",
    "a = 3.14\n",
    "a = '안녕 세계'\n",
    "\n",
    "# 변수 삭제\n",
    "# 가비지 컬렉터가 작동하므로 추천되지는 않음\n",
    "# del a"
   ]
  },
  {
   "cell_type": "code",
   "execution_count": 4,
   "metadata": {
    "colab": {
     "base_uri": "https://localhost:8080/"
    },
    "executionInfo": {
     "elapsed": 287,
     "status": "ok",
     "timestamp": 1679879313111,
     "user": {
      "displayName": "임영택",
      "userId": "14069782116179841036"
     },
     "user_tz": -540
    },
    "id": "sfRI6vOGm1PK",
    "outputId": "6b1e58eb-7968-4233-dd7f-f101fb68c17f"
   },
   "outputs": [
    {
     "name": "stdout",
     "output_type": "stream",
     "text": [
      "안녕 세계\n"
     ]
    }
   ],
   "source": [
    "# 각 셀이 독립된 환경이라고 보아서는 안됨.\n",
    "\n",
    "print(a)\n",
    "\n",
    "# 값이 잘 출력됨. 같은 파일의 코드를 부분별로 실행하는 것과 같음."
   ]
  },
  {
   "cell_type": "code",
   "execution_count": 5,
   "metadata": {
    "id": "OqaddEd1nywj"
   },
   "outputs": [],
   "source": [
    "# Built-in Data Type\n",
    "\n",
    "## 1. Numeric (뉴메릭, 수)\n",
    "## 2. Sequence (시퀀스)\n",
    "## 3. Text Sequence\n",
    "## 4. Mapping\n",
    "## 5. Set\n",
    "## 6. Bool"
   ]
  },
  {
   "cell_type": "code",
   "execution_count": 6,
   "metadata": {
    "colab": {
     "base_uri": "https://localhost:8080/"
    },
    "executionInfo": {
     "elapsed": 339,
     "status": "ok",
     "timestamp": 1679880058836,
     "user": {
      "displayName": "임영택",
      "userId": "14069782116179841036"
     },
     "user_tz": -540
    },
    "id": "eMtEAmIhoYeQ",
    "outputId": "4449e0bb-40e3-4f9f-c1f9-4a8b098ccc3b"
   },
   "outputs": [
    {
     "name": "stdout",
     "output_type": "stream",
     "text": [
      "<class 'int'>\n",
      "<class 'float'>\n",
      "0.75\n"
     ]
    }
   ],
   "source": [
    "# 1. Numeric (뉴메릭, 수)\n",
    "### 정수\n",
    "a = 123\n",
    "\n",
    "### 실수\n",
    "b = 3.141592\n",
    "\n",
    "### 복소수 (생략)\n",
    "### N진수 (생략)\n",
    "\n",
    "# [+] type 함수: 인자로 주어진 변수의 타입에 해당하는 클래스 반환\n",
    "print(type(a))\n",
    "# <class 'int'> / 내부에 int라는 클래스가 있으며 변수 a는 그 객체를 가리키고 있음.\n",
    "# 파이썬의 모든 타입의 변수는 객체. 따로 Primitive 타입이 없음.\n",
    "\n",
    "print(type(b)) # <class 'float'>\n",
    "\n",
    "### 연산\n",
    "result = 3 / 4\n",
    "print(result) # 0.75\n",
    "# 모든 프로그래밍 언어는 같은 데이터타입끼리만 연산 가능.\n",
    "# 3 / 4의 경우 정수 값인 0이 반환될 것으로 기대할 수 있으나,\n",
    "# 파이썬에서는 정수나 실수나 파생 클래스는 달라도 뉴메릭 타입이며, 뉴메릭 타입은\n",
    "# 내부적으로 실수로 취급됨. 따라서 3.0 / 4.0과 같은 결과가 반환됨."
   ]
  },
  {
   "cell_type": "code",
   "execution_count": 7,
   "metadata": {
    "colab": {
     "base_uri": "https://localhost:8080/"
    },
    "executionInfo": {
     "elapsed": 315,
     "status": "ok",
     "timestamp": 1679882545983,
     "user": {
      "displayName": "임영택",
      "userId": "14069782116179841036"
     },
     "user_tz": -540
    },
    "id": "-zYGAVJXqadu",
    "outputId": "6e9158b9-d2be-412c-fcd6-f1fd2b91dec8"
   },
   "outputs": [
    {
     "name": "stdout",
     "output_type": "stream",
     "text": [
      "<class 'list'>\n",
      "1\n",
      "5\n",
      "4\n",
      "100\n",
      "[1, 2]\n",
      "[2, 3, [3.14, 5.25, 100], 4, 5]\n",
      "[1, 2, 3]\n",
      "[1, 2, 3, [3.14, 5.25, 100], 4, 5]\n"
     ]
    }
   ],
   "source": [
    "# 2. Sequence\n",
    "\n",
    "### (1) list\n",
    "#### 파이썬에서 가장 중요한 자료구조이자 데이터타입\n",
    "#### 객체를 순서대로 저장하는 집합형 자료구조\n",
    "#### Java의 ArrayList와 상당히 유사함\n",
    "#### 리터럴 [] / 배열이 아니라 리스트임.\n",
    "myList = list() # 클래스 생성자를 호출하여 만들기. 빈 리스트\n",
    "myList = [1, 3.14, 100]\n",
    "print(type(myList)) # <class 'list'>\n",
    "\n",
    "#### 중첩 리스트로 가능\n",
    "myList = [1, 2, 3, [3.14, 5.25, 100] , 4, 5]\n",
    "# 이차원 배열과는 다름. 파이썬에서는 배열 개념이 없기 때문에,\n",
    "# 이를 이차원 배열이라고 부르지 않고, 중첩 리스트라고만 부른다.\n",
    "\n",
    "#### 리스트 기본 인덱싱\n",
    "# 마치 배열처럼 인덱스로 요소에 접근 가능하다. (Indexing 가능)\n",
    "print(myList[0])\n",
    "print(myList[-1]) # 뒤에서부터 센다. 5\n",
    "print(myList[-2]) # 4\n",
    "print(myList[3][2]) # 중첩 리스트의 요소에 접근. 100\n",
    "\n",
    "#### 리스트 슬라이싱\n",
    "# 집합 자료구조에서 원하는 요소만 잘라오는 것\n",
    "# 슬라이싱한 결과는 원본과 같은 데이터 타입을 가지게 됨\n",
    "# 인덱싱은 다를 수 있음\n",
    "print(myList[0:2]) # N:M N부터 M전까지. N은 포함되며 M은 불포함. [1, 2]\n",
    "\n",
    "print(myList[1:]) # N: N부터 끝까지\n",
    "print(myList[:3]) # :M 처음부터 M전까지\n",
    "print(myList[:]) # 처음부터 끝까지. 리스트를 그대로 복사할 때 사용\n",
    "\n"
   ]
  },
  {
   "cell_type": "code",
   "execution_count": 8,
   "metadata": {
    "colab": {
     "base_uri": "https://localhost:8080/"
    },
    "executionInfo": {
     "elapsed": 335,
     "status": "ok",
     "timestamp": 1679883091647,
     "user": {
      "displayName": "임영택",
      "userId": "14069782116179841036"
     },
     "user_tz": -540
    },
    "id": "nFUQk4BR0Dbj",
    "outputId": "ea7633e4-30b0-4247-e32f-f4423e680184"
   },
   "outputs": [
    {
     "name": "stdout",
     "output_type": "stream",
     "text": [
      "[1, 2, 3, 4, 5, 6]\n",
      "[1, 2, 3, 1, 2, 3, 1, 2, 3]\n",
      "[1, 2, 3, 4]\n",
      "[1, 2, 3, 4, [4, 5]]\n"
     ]
    }
   ],
   "source": [
    "##### 리스트의 연산\n",
    "a = [1, 2, 3]\n",
    "b = [4, 5, 6]\n",
    "c = a + b # concatenating\n",
    "print(c) # [1, 2, 3, 4, 5, 6]\n",
    "\n",
    "# 기본 파이썬에서는 벡터 연산이 불가하다.\n",
    "# [1+4, 2+5, 3+6]이 아닌 연결된 리스트가 반환된다.\n",
    "\n",
    "c = a * 3 # plus 연산 반복. a + a + a와 같음 => 반복하여 연결\n",
    "print(c) # [1, 2, 3, 1, 2, 3, 1, 2, 3]\n",
    "\n",
    "#### 리스트의 내장 메서드\n",
    "# 리스트는 객체이므로, 많은 내장 메서드가 있음.\n",
    "a = [1, 2, 3]\n",
    "a.append(4) # 4라는 요소를 추가\n",
    "print(a) # [1, 2, 3, 4]\n",
    "\n",
    "a.append([4, 5]) # 마지막 요소로 [4, 5]가 추가되는 것이므로, 중첩리스트가 됨\n",
    "print(a) # [1, 2, 3, 4, [4, 5]]"
   ]
  },
  {
   "cell_type": "markdown",
   "metadata": {
    "id": "In-1Ihj42QiD"
   },
   "source": [
    "2. Sequence - (2) tuple\n",
    "\n",
    "튜플은 리스트와 가본적으로 동일하나, 리스트와 달리 read-only라는 차이가 있다.\n",
    "\n",
    "리터럴: ( )"
   ]
  },
  {
   "cell_type": "code",
   "execution_count": 9,
   "metadata": {
    "colab": {
     "base_uri": "https://localhost:8080/"
    },
    "executionInfo": {
     "elapsed": 4,
     "status": "ok",
     "timestamp": 1679884196903,
     "user": {
      "displayName": "임영택",
      "userId": "14069782116179841036"
     },
     "user_tz": -540
    },
    "id": "IpoTo4ZD2rb3",
    "outputId": "80c965bb-c2fd-40a3-bf51-97b25e3d7055"
   },
   "outputs": [
    {
     "name": "stdout",
     "output_type": "stream",
     "text": [
      "<class 'tuple'>\n",
      "<class 'int'>\n",
      "<class 'tuple'>\n",
      "3\n",
      "(3,)\n",
      "튜플의 원소는 바꿀 수 없다.\n",
      "Error: 'tuple' object does not support item assignment\n",
      "(1, 2, 3, [101, 222, 103], 5, 6)\n",
      "(1, 2, 3)\n",
      "1 2 3\n"
     ]
    }
   ],
   "source": [
    "a = tuple() # 이렇게 빈 튜플을 만들수는 있지만, read-only이므로 이러한 표현이 일반적이지는 않음\n",
    "a = (1, 2, 3, 4)\n",
    "b = (1) # 튜플의 소괄호인지 우선순위 표시의 소괄호인지 모호하다. 전자라면 타입이 튜플이고, 후자라면 숫자이다.\n",
    "c = (1, ) # 요소가 한 개인 튜플은 이렇게 표현한다.\n",
    "print(type(a)) # <class 'tuple'>\n",
    "print(type(b)) # <class 'int'>\n",
    "print(type(c)) # <class 'tuple'>\n",
    "\n",
    "# 튜플의 인덱싱과 슬라이싱\n",
    "print(a[2]) # 3\n",
    "print(a[2:3]) # (3, )\n",
    "\n",
    "try:\n",
    "  a[3] = 100 # TypeError: 'tuple' object does not support item assignment\n",
    "except TypeError as e:\n",
    "  print('튜플의 원소는 바꿀 수 없다.')\n",
    "  print('Error:', e)\n",
    "\n",
    "## 그러나 아래는 가능하다.\n",
    "a = (1, 2, 3, [101, 102, 103], 5, 6)\n",
    "a[3][1] = 222 # a[3]의 레퍼런스가 가리키는 리스트의 한 요소를 수정.\n",
    "              # a[3]에 할당된 레퍼런스를 수정하려한 것은 아님.\n",
    "print(a) # (1, 2, 3, [101, 222, 103], 5, 6)\n",
    "\n",
    "# 튜플은 소괄호를 생략하여 쓸 수 있다\n",
    "a = 1, 2, 3\n",
    "print(a) # (1, 2, 3)\n",
    "\n",
    "a, b, c = 1, 2, 3 # 우변의 튜플을 좌변의 튜플에 대입. 우변의 튜플의 원소 값이 분해되어 할당된다\n",
    "print(a, b, c) # 1 2 3"
   ]
  },
  {
   "cell_type": "code",
   "execution_count": 48,
   "metadata": {
    "colab": {
     "base_uri": "https://localhost:8080/"
    },
    "executionInfo": {
     "elapsed": 3,
     "status": "ok",
     "timestamp": 1679884322520,
     "user": {
      "displayName": "임영택",
      "userId": "14069782116179841036"
     },
     "user_tz": -540
    },
    "id": "49xmMvbv5Ti7",
    "outputId": "5499b8f1-b13c-4fc7-c605-100aebe8acc0"
   },
   "outputs": [
    {
     "name": "stdout",
     "output_type": "stream",
     "text": [
      "(1, 2, 3) [1, 2, 3]\n"
     ]
    }
   ],
   "source": [
    "# 튜플과 리스트는 상호간에 쉽게 변환할 수 있다.\n",
    "a = (1, 2, 3)\n",
    "b = list(a)\n",
    "print(a, b) # (1, 2, 3) [1, 2, 3]"
   ]
  },
  {
   "cell_type": "markdown",
   "metadata": {
    "id": "E2AHUhTb6r6Y"
   },
   "source": [
    "2. Sequence - (3) range\n",
    "\n",
    "리터럴로 쓰지 않는다. range라는 클래스를 이용하여 표현한다."
   ]
  },
  {
   "cell_type": "code",
   "execution_count": 3,
   "metadata": {
    "colab": {
     "base_uri": "https://localhost:8080/"
    },
    "executionInfo": {
     "elapsed": 282,
     "status": "ok",
     "timestamp": 1679884801227,
     "user": {
      "displayName": "임영택",
      "userId": "14069782116179841036"
     },
     "user_tz": -540
    },
    "id": "iLDZDz2M6zEM",
    "outputId": "0d322e16-1dbf-4110-ec53-b3c56d644798"
   },
   "outputs": [
    {
     "name": "stdout",
     "output_type": "stream",
     "text": [
      "range(0, 10)\n",
      "[2, 4, 6, 8, 10, 12, 14, 16, 18]\n",
      "10\n"
     ]
    }
   ],
   "source": [
    "a = range(10) # 0부터 시작하여 10전까지, 1씩 증가하는 숫자 범위\n",
    "print(a)\n",
    "# range(0, 10)\n",
    "# 객체 내에 실제 데이터를 가지고 있지 않음.\n",
    "# 이 말은, 아주 큰 수까지의 범위를 지정해도 메모리 낭비가 생기지 않는다는 것.\n",
    "b = range(0, 1000000000000)\n",
    "\n",
    "a = range(2, 20, 2) # 시작, 끝(제외), 증가량\n",
    "print(list(a)) # 2부터 2씩 증가하되, 20보다 작은 숫자 범위\n",
    "print(a[4]) ## 10. 인덱싱이 가능. 마찬가지로 for문을 이용한 iteration도 가능."
   ]
  },
  {
   "cell_type": "markdown",
   "metadata": {
    "id": "0d1Rxrt28lRP"
   },
   "source": [
    "3. Text Sequence\n",
    "\n",
    "문자열.\n",
    "\n",
    "클래스: str\n",
    "\n",
    "리터럴: '' 혹은 \"\" - 둘 다 사용 가능 (default는 '')\n",
    "\n",
    "문자(char) 개념이 없음. 한 글자라도 길이가 1인 문자열일뿐임."
   ]
  },
  {
   "cell_type": "code",
   "execution_count": 15,
   "metadata": {
    "colab": {
     "base_uri": "https://localhost:8080/"
    },
    "executionInfo": {
     "elapsed": 2,
     "status": "ok",
     "timestamp": 1679886776686,
     "user": {
      "displayName": "임영택",
      "userId": "14069782116179841036"
     },
     "user_tz": -540
    },
    "id": "orkdsYGp9LZR",
    "outputId": "ef92e118-0344-4ae6-9814-437337f89224"
   },
   "outputs": [
    {
     "name": "stdout",
     "output_type": "stream",
     "text": [
      "<class 'str'>\n",
      "홍길동\n",
      "이\n",
      "이것은\n",
      "True\n",
      "이것은 소리 없는 아우성\n"
     ]
    }
   ],
   "source": [
    "a = '이것은 소리 없는 아우성!'\n",
    "print(type(a)) # <class 'str'>\n",
    "\n",
    "# 실제로 내부적으로는 리스트를 기반으로 구현되어 있음.\n",
    "b1 = '홍'\n",
    "b2 = '길동'\n",
    "print(b1 + b2) # 홍길동. concatenated same as a list\n",
    "\n",
    "print(a[0]) # 인덱싱 가능. 이\n",
    "print(a[0:3]) # 슬라이싱 가능. 이것은\n",
    "\n",
    "# 문자열만의 독특한 연산자\n",
    "print('소리' in a) # 서브스트링 포함 여부 검사. 파이썬은 Bool 값이 True, False\n",
    "\n",
    "# str 클래스의 내장 메서드\n",
    "print('이것은 {} 없는 {}'.format('소리', '아우성')) # 이것은 소리 없는 아우성\n",
    "                                              # 중간에 편하게 문자열을 삽입할 수 있음.\n"
   ]
  },
  {
   "cell_type": "markdown",
   "metadata": {
    "id": "toIzxRfcD-CL"
   },
   "source": [
    "4. Mapping\n",
    "\n",
    "키-밸류 쌍의로 데이터를 나타내는 자료구조\n",
    "\n",
    "리터럴을 보면 JSON이랑 거의 똑같이 생겼음.\n",
    "\n",
    "파이썬에서는 이러한 자료 구조를 Dictionary라고 부름.\n",
    "\n",
    "- 클래스:dict\n",
    "\n",
    "- 리터럴: { }"
   ]
  },
  {
   "cell_type": "code",
   "execution_count": 22,
   "metadata": {
    "colab": {
     "base_uri": "https://localhost:8080/"
    },
    "executionInfo": {
     "elapsed": 379,
     "status": "ok",
     "timestamp": 1679895917733,
     "user": {
      "displayName": "임영택",
      "userId": "14069782116179841036"
     },
     "user_tz": -540
    },
    "id": "SrjIxXfZFJNG",
    "outputId": "630c72b5-098c-484d-8344-e41d296194b5"
   },
   "outputs": [
    {
     "name": "stdout",
     "output_type": "stream",
     "text": [
      "<class 'dict'>\n",
      "{'name': '홍길동', 'age': 20, '주소': '서울'}\n",
      "dict_keys(['name', 'age', '주소'])\n",
      "name\n",
      "age\n",
      "주소\n"
     ]
    }
   ],
   "source": [
    "a = { # JSON과 유사하지만 JSON은 아님. JSON은 중간에 주석 불가하며, 문자열은 \"\". 그저 문자열일 뿐임. \n",
    "    'name': '홍길동',\n",
    "     'age': 20\n",
    "}\n",
    "\n",
    "print(type(a)) # <class 'dict'>\n",
    "\n",
    "# 자바와 달리 파이썬의 딕셔너리에는 동적으로 데이터를 추가할 수 있음.\n",
    "# 자바스크립트와 유사.\n",
    "a['주소'] = '서울' # 특정 키에 해당하는 데이터를 수정하거나, 없으면 새롭게 만듦.\n",
    "print(a) # {'name': '홍길동', 'age': 20, '주소': '서울'}\n",
    "\n",
    "# 내장 메서드\n",
    "print(a.keys()) # dict_keys(['name', 'age', '주소'])\n",
    "                # 딕셔너리 내 키만 추출하여 리스트로 반환!하는 것처럼 보임.\n",
    "                # 정확히 말하면 리스트가 아니라, dict_keys라는 별도 자료구조.\n",
    "                # 그러나 사용할 때에는 리스트라고 생각하고 사용해도 큰 문제 없음.\n",
    "                # 그러나 리스트의 내장 메서드를 모두 사용할 수는 없음.\n",
    "                # 보통 딕셔너리에 대해 for 문을 이용할 때 사용.\n",
    "\n",
    "## for in 구문\n",
    "#### for ~ in <리스트 혹은 튜플, 리스트와 유사한 자료구조>\n",
    "for key in a.keys():\n",
    "  print(key) # 들여쓰기 중요 (기본 4칸)"
   ]
  },
  {
   "cell_type": "code",
   "execution_count": null,
   "metadata": {
    "id": "yxMALhGQFa4e"
   },
   "outputs": [],
   "source": []
  }
 ],
 "metadata": {
  "colab": {
   "authorship_tag": "ABX9TyP7fxuWG/7DRoQbu2BGsOB7",
   "provenance": []
  },
  "kernelspec": {
   "display_name": "Python 3 (ipykernel)",
   "language": "python",
   "name": "python3"
  },
  "language_info": {
   "codemirror_mode": {
    "name": "ipython",
    "version": 3
   },
   "file_extension": ".py",
   "mimetype": "text/x-python",
   "name": "python",
   "nbconvert_exporter": "python",
   "pygments_lexer": "ipython3",
   "version": "3.10.9"
  }
 },
 "nbformat": 4,
 "nbformat_minor": 1
}

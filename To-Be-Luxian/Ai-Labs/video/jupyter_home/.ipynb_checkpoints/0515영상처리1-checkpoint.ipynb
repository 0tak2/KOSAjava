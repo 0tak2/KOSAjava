{
 "cells": [
  {
   "cell_type": "code",
   "execution_count": 2,
   "id": "11a2cef6",
   "metadata": {},
   "outputs": [
    {
     "name": "stdout",
     "output_type": "stream",
     "text": [
      "4.7.0\n"
     ]
    }
   ],
   "source": [
    "import cv2\n",
    "print(cv2.__version__)\n",
    "image = cv2.imread('image.jpg', -1)"
   ]
  },
  {
   "cell_type": "code",
   "execution_count": 2,
   "id": "5971993c",
   "metadata": {},
   "outputs": [
    {
     "name": "stdout",
     "output_type": "stream",
     "text": [
      "1.24.3\n"
     ]
    }
   ],
   "source": [
    "import numpy as np\n",
    "print(np.__version__)"
   ]
  },
  {
   "cell_type": "code",
   "execution_count": 11,
   "id": "7fc1aca4",
   "metadata": {},
   "outputs": [],
   "source": [
    "cv2.imshow('test', image)\n",
    "cv2.waitKey(0)\n",
    "cv2.destroyAllWindows()\n",
    "# cv2.destroyWindow('test')"
   ]
  },
  {
   "cell_type": "code",
   "execution_count": 4,
   "id": "1eee7f43",
   "metadata": {},
   "outputs": [],
   "source": [
    "# 입력 키에 따라 이벤트 처리해보기\n",
    "cv2.imshow('test', image)\n",
    "if cv2.waitKey(0) == 13:\n",
    "    cv2.destroyAllWindows()"
   ]
  },
  {
   "cell_type": "code",
   "execution_count": 14,
   "id": "2b5c6bca",
   "metadata": {
    "scrolled": true
   },
   "outputs": [
    {
     "name": "stdout",
     "output_type": "stream",
     "text": [
      "(720, 581, 3)\n",
      "1254960\n",
      "1254960\n"
     ]
    }
   ],
   "source": [
    "print(image.shape)\n",
    "print(image.size)\n",
    "print(720 * 581 * 3)"
   ]
  },
  {
   "cell_type": "code",
   "execution_count": 15,
   "id": "326e9ef6",
   "metadata": {},
   "outputs": [],
   "source": [
    "# RGB -> BGR\n",
    "rgbImage = cv2.cvtColor(image, cv2.COLOR_BGR2RGB)\n",
    "cv2.imshow('test', rgbImage)\n",
    "cv2.waitKey(0)\n",
    "cv2.destroyAllWindows()"
   ]
  },
  {
   "cell_type": "code",
   "execution_count": 16,
   "id": "d6436198",
   "metadata": {},
   "outputs": [],
   "source": [
    "invertImage = 255 - image\n",
    "cv2.imshow('test', invertImage)\n",
    "cv2.waitKey(0)\n",
    "cv2.destroyAllWindows()"
   ]
  },
  {
   "cell_type": "code",
   "execution_count": 22,
   "id": "f409ce5b",
   "metadata": {},
   "outputs": [],
   "source": [
    "# ROI\n",
    "\n",
    "roi = image[0:500, 100:500, :] # 높이, 가로, 채널 전체\n",
    "cv2.imshow('test', roi)\n",
    "cv2.waitKey(0)\n",
    "cv2.destroyAllWindows()"
   ]
  },
  {
   "cell_type": "code",
   "execution_count": 32,
   "id": "d1e74fdb",
   "metadata": {},
   "outputs": [],
   "source": [
    "# ROI FLIP\n",
    "\n",
    "roi = image[0:500, 100:500, :] # 높이, 가로, 채널 전체\n",
    "flipped_roi = cv2.flip(roi, 1)\n",
    "\n",
    "cv2.imshow('ROI', roi)\n",
    "cv2.imshow('ROI-FLIPPED', flipped_roi)\n",
    "cv2.waitKey(0)\n",
    "cv2.destroyAllWindows()"
   ]
  },
  {
   "cell_type": "code",
   "execution_count": 36,
   "id": "c80f219e",
   "metadata": {},
   "outputs": [
    {
     "ename": "error",
     "evalue": "OpenCV(4.7.0) :-1: error: (-5:Bad argument) in function 'imshow'\n> Overload resolution failed:\n>  - mat is not a numerical tuple\n>  - Expected Ptr<cv::cuda::GpuMat> for argument 'mat'\n>  - Expected Ptr<cv::UMat> for argument 'mat'\n",
     "output_type": "error",
     "traceback": [
      "\u001b[1;31m---------------------------------------------------------------------------\u001b[0m",
      "\u001b[1;31merror\u001b[0m                                     Traceback (most recent call last)",
      "Cell \u001b[1;32mIn[36], line 22\u001b[0m\n\u001b[0;32m     13\u001b[0m gr_bin_image \u001b[38;5;241m=\u001b[39m cv2\u001b[38;5;241m.\u001b[39mthreshold(gr_flipped_roi, \u001b[38;5;241m200\u001b[39m, \u001b[38;5;241m255\u001b[39m, cv2\u001b[38;5;241m.\u001b[39mTHRESH_BINARY) \u001b[38;5;66;03m# 이미지 ndarry, 기준값, 최대값\u001b[39;00m\n\u001b[0;32m     14\u001b[0m \u001b[38;5;66;03m# print(gr_bin_image)\u001b[39;00m\n\u001b[0;32m     15\u001b[0m \u001b[38;5;66;03m# # (200.0, array([[0, 0, 0, ..., 0, 0, 0],\u001b[39;00m\n\u001b[0;32m     16\u001b[0m \u001b[38;5;66;03m# #        [0, 0, 0, ..., 0, 0, 0],\u001b[39;00m\n\u001b[1;32m   (...)\u001b[0m\n\u001b[0;32m     20\u001b[0m \u001b[38;5;66;03m# #        [0, 0, 0, ..., 0, 0, 0],\u001b[39;00m\n\u001b[0;32m     21\u001b[0m \u001b[38;5;66;03m# #        [0, 0, 0, ..., 0, 0, 0]], dtype=uint8))\u001b[39;00m\n\u001b[1;32m---> 22\u001b[0m \u001b[43mcv2\u001b[49m\u001b[38;5;241;43m.\u001b[39;49m\u001b[43mimshow\u001b[49m\u001b[43m(\u001b[49m\u001b[38;5;124;43m'\u001b[39;49m\u001b[38;5;124;43mBINARY IMAGE\u001b[39;49m\u001b[38;5;124;43m'\u001b[39;49m\u001b[43m,\u001b[49m\u001b[43m \u001b[49m\u001b[43mgr_bin_image\u001b[49m\u001b[43m)\u001b[49m\n\u001b[0;32m     23\u001b[0m cv2\u001b[38;5;241m.\u001b[39mwaitKey(\u001b[38;5;241m0\u001b[39m)\n\u001b[0;32m     24\u001b[0m cv2\u001b[38;5;241m.\u001b[39mdestroyAllWindows()\n",
      "\u001b[1;31merror\u001b[0m: OpenCV(4.7.0) :-1: error: (-5:Bad argument) in function 'imshow'\n> Overload resolution failed:\n>  - mat is not a numerical tuple\n>  - Expected Ptr<cv::cuda::GpuMat> for argument 'mat'\n>  - Expected Ptr<cv::UMat> for argument 'mat'\n"
     ]
    }
   ],
   "source": [
    "# 영상 이진화\n",
    "roi = image[0:500, 100:500, :]\n",
    "flipped_roi = cv2.flip(roi, 1)\n",
    "gr_flipped_roi = flipped_roi[:, :, 1] # G 영역\n",
    "\n",
    "# G 영역 이미지 확인\n",
    "cv2.imshow('ORIGINAL', flipped_roi)\n",
    "cv2.imshow('GREEN', gr_flipped_roi) # 어두울수록 초록 값이 큼\n",
    "cv2.waitKey(0)\n",
    "cv2.destroyAllWindows()\n",
    "\n",
    "# 이진화\n",
    "gr_bin_image = cv2.threshold(gr_flipped_roi, 200, 255, cv2.THRESH_BINARY) # 이미지 ndarry, 기준값, 최대값\n",
    "# print(gr_bin_image)\n",
    "# # (200.0, array([[0, 0, 0, ..., 0, 0, 0],\n",
    "# #        [0, 0, 0, ..., 0, 0, 0],\n",
    "# #        [0, 0, 0, ..., 0, 0, 0],\n",
    "# #        ...,\n",
    "# #        [0, 0, 0, ..., 0, 0, 0],\n",
    "# #        [0, 0, 0, ..., 0, 0, 0],\n",
    "# #        [0, 0, 0, ..., 0, 0, 0]], dtype=uint8))\n",
    "cv2.imshow('GREEN', gr_flipped_roi)\n",
    "cv2.imshow('BINARY IMAGE', gr_bin_image)\n",
    "cv2.waitKey(0)\n",
    "cv2.destroyAllWindows()"
   ]
  }
 ],
 "metadata": {
  "kernelspec": {
   "display_name": "Python [conda env:vision-env] *",
   "language": "python",
   "name": "conda-env-vision-env-py"
  },
  "language_info": {
   "codemirror_mode": {
    "name": "ipython",
    "version": 3
   },
   "file_extension": ".py",
   "mimetype": "text/x-python",
   "name": "python",
   "nbconvert_exporter": "python",
   "pygments_lexer": "ipython3",
   "version": "3.8.16"
  }
 },
 "nbformat": 4,
 "nbformat_minor": 5
}
